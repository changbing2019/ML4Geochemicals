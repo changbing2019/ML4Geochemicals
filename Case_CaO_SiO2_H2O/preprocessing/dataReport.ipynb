{
 "cells": [
  {
   "cell_type": "code",
   "execution_count": 1,
   "id": "372452d9-61bf-4f3a-889d-e882c8bc630a",
   "metadata": {},
   "outputs": [],
   "source": [
    "import pickle"
   ]
  },
  {
   "cell_type": "code",
   "execution_count": 2,
   "id": "b9eb22aa-32a2-459b-a631-4883eef866fe",
   "metadata": {},
   "outputs": [],
   "source": [
    "import matplotlib.pyplot as plt\n",
    "import matplotlib as mpl\n",
    "\n",
    "import numpy as np\n",
    "%matplotlib inline\n",
    "import pandas as pd"
   ]
  },
  {
   "cell_type": "code",
   "execution_count": 3,
   "id": "1a08a9d5-8101-43f1-998c-e1222ed6be70",
   "metadata": {},
   "outputs": [],
   "source": [
    "import os, glob\n",
    "import seaborn as sns\n",
    "sns.set(style=\"darkgrid\")"
   ]
  },
  {
   "cell_type": "code",
   "execution_count": 4,
   "id": "b563500e-4f3a-45c3-be9a-14d76e59d501",
   "metadata": {},
   "outputs": [],
   "source": [
    "from IPython.display import display, HTML, Image"
   ]
  },
  {
   "cell_type": "code",
   "execution_count": 5,
   "id": "e810e380-1f75-453e-a715-06aa964eedbc",
   "metadata": {},
   "outputs": [],
   "source": [
    "from sklearn.pipeline import make_pipeline\n",
    "from yellowbrick.regressor import residuals_plot\n",
    "from sklearn.ensemble import RandomForestRegressor\n",
    "from sklearn.model_selection import train_test_split"
   ]
  },
  {
   "cell_type": "code",
   "execution_count": 6,
   "id": "5191c868-c30d-4a52-bad3-d14f13bf9258",
   "metadata": {},
   "outputs": [],
   "source": [
    "import lightgbm as lgb\n",
    "from sklearn.ensemble import RandomForestRegressor,  GradientBoostingRegressor\n"
   ]
  },
  {
   "cell_type": "code",
   "execution_count": 7,
   "id": "088dcbf3-192f-4903-8eec-bb995f8017e3",
   "metadata": {},
   "outputs": [],
   "source": [
    "import timeit"
   ]
  },
  {
   "cell_type": "code",
   "execution_count": 8,
   "id": "8660f278-6874-478d-bdab-5acd36c4d486",
   "metadata": {},
   "outputs": [
    {
     "name": "stderr",
     "output_type": "stream",
     "text": [
      "F:\\anaconda3\\envs\\chemical\\lib\\site-packages\\xgboost\\compat.py:36: FutureWarning: pandas.Int64Index is deprecated and will be removed from pandas in a future version. Use pandas.Index with the appropriate dtype instead.\n",
      "  from pandas import MultiIndex, Int64Index\n"
     ]
    }
   ],
   "source": [
    "from xgboost import XGBRegressor\n",
    "from lightgbm import LGBMRegressor"
   ]
  },
  {
   "cell_type": "code",
   "execution_count": 9,
   "id": "d5f28aa4-482f-41d4-b460-5f1096b40f44",
   "metadata": {},
   "outputs": [],
   "source": [
    "from sklearn.metrics import r2_score\n",
    "from sklearn.metrics import mean_squared_error"
   ]
  },
  {
   "cell_type": "code",
   "execution_count": 10,
   "id": "48869c83-5128-4383-8ee3-e3393f94be5d",
   "metadata": {},
   "outputs": [],
   "source": [
    "from pandas_profiling import ProfileReport"
   ]
  },
  {
   "cell_type": "code",
   "execution_count": 11,
   "id": "02a8e8eb-a986-4062-8759-74e51b8a2b89",
   "metadata": {},
   "outputs": [],
   "source": [
    "#data =pd.read_csv('10_PC_02_LHS_500_54854_01_s1_G.csv')\n",
    "data =pd.read_csv('10_PC_02_LHS_5000_54854_01_s1_G.csv')"
   ]
  },
  {
   "cell_type": "code",
   "execution_count": 12,
   "id": "d76c2be5-ff2a-4d24-a1b3-ef54caf4d64f",
   "metadata": {},
   "outputs": [
    {
     "data": {
      "text/html": [
       "<div>\n",
       "<style scoped>\n",
       "    .dataframe tbody tr th:only-of-type {\n",
       "        vertical-align: middle;\n",
       "    }\n",
       "\n",
       "    .dataframe tbody tr th {\n",
       "        vertical-align: top;\n",
       "    }\n",
       "\n",
       "    .dataframe thead th {\n",
       "        text-align: right;\n",
       "    }\n",
       "</style>\n",
       "<table border=\"1\" class=\"dataframe\">\n",
       "  <thead>\n",
       "    <tr style=\"text-align: right;\">\n",
       "      <th></th>\n",
       "      <th>T(C)</th>\n",
       "      <th>b(CaO)</th>\n",
       "      <th>b(SiO2)</th>\n",
       "      <th>b(H2O)</th>\n",
       "      <th>Vol(aq)</th>\n",
       "      <th>pH</th>\n",
       "      <th>nCa(aq)</th>\n",
       "      <th>nCa(s)</th>\n",
       "      <th>nSi(aq)</th>\n",
       "      <th>nSi(s_reac)</th>\n",
       "      <th>nPortlandite</th>\n",
       "      <th>nAmor-Sl</th>\n",
       "      <th>mCSHQ</th>\n",
       "      <th>nCa(CSHQ)</th>\n",
       "      <th>nSi(CSHQ)</th>\n",
       "      <th>nH2O(CSHQ)</th>\n",
       "      <th>C/S(CSHQ)</th>\n",
       "      <th>nGelPW(CSH)</th>\n",
       "    </tr>\n",
       "  </thead>\n",
       "  <tbody>\n",
       "    <tr>\n",
       "      <th>0</th>\n",
       "      <td>25.0</td>\n",
       "      <td>0.508060</td>\n",
       "      <td>0.304081</td>\n",
       "      <td>3.438876</td>\n",
       "      <td>0.046061</td>\n",
       "      <td>12.47261</td>\n",
       "      <td>0.000934</td>\n",
       "      <td>0.507127</td>\n",
       "      <td>1.424097e-06</td>\n",
       "      <td>0.304080</td>\n",
       "      <td>0.012382</td>\n",
       "      <td>0.0</td>\n",
       "      <td>0.061781</td>\n",
       "      <td>0.494744</td>\n",
       "      <td>0.304080</td>\n",
       "      <td>0.875158</td>\n",
       "      <td>1.627021</td>\n",
       "      <td>0.374278</td>\n",
       "    </tr>\n",
       "    <tr>\n",
       "      <th>1</th>\n",
       "      <td>25.0</td>\n",
       "      <td>1.258791</td>\n",
       "      <td>0.566548</td>\n",
       "      <td>4.655774</td>\n",
       "      <td>0.048550</td>\n",
       "      <td>12.47261</td>\n",
       "      <td>0.000984</td>\n",
       "      <td>1.257807</td>\n",
       "      <td>1.501005e-06</td>\n",
       "      <td>0.566546</td>\n",
       "      <td>0.336025</td>\n",
       "      <td>0.0</td>\n",
       "      <td>0.115107</td>\n",
       "      <td>0.921782</td>\n",
       "      <td>0.566546</td>\n",
       "      <td>1.630550</td>\n",
       "      <td>1.627021</td>\n",
       "      <td>0.697336</td>\n",
       "    </tr>\n",
       "    <tr>\n",
       "      <th>2</th>\n",
       "      <td>25.0</td>\n",
       "      <td>1.396591</td>\n",
       "      <td>0.697116</td>\n",
       "      <td>4.671613</td>\n",
       "      <td>0.043398</td>\n",
       "      <td>12.47261</td>\n",
       "      <td>0.000880</td>\n",
       "      <td>1.395711</td>\n",
       "      <td>1.341699e-06</td>\n",
       "      <td>0.697115</td>\n",
       "      <td>0.261491</td>\n",
       "      <td>0.0</td>\n",
       "      <td>0.141634</td>\n",
       "      <td>1.134221</td>\n",
       "      <td>0.697115</td>\n",
       "      <td>2.006333</td>\n",
       "      <td>1.627021</td>\n",
       "      <td>0.858048</td>\n",
       "    </tr>\n",
       "    <tr>\n",
       "      <th>3</th>\n",
       "      <td>25.0</td>\n",
       "      <td>1.461423</td>\n",
       "      <td>0.327679</td>\n",
       "      <td>7.328584</td>\n",
       "      <td>0.098560</td>\n",
       "      <td>12.47261</td>\n",
       "      <td>0.001998</td>\n",
       "      <td>1.459425</td>\n",
       "      <td>3.047140e-06</td>\n",
       "      <td>0.327676</td>\n",
       "      <td>0.926290</td>\n",
       "      <td>0.0</td>\n",
       "      <td>0.066575</td>\n",
       "      <td>0.533135</td>\n",
       "      <td>0.327676</td>\n",
       "      <td>0.943068</td>\n",
       "      <td>1.627021</td>\n",
       "      <td>0.403321</td>\n",
       "    </tr>\n",
       "    <tr>\n",
       "      <th>4</th>\n",
       "      <td>25.0</td>\n",
       "      <td>0.667907</td>\n",
       "      <td>0.389925</td>\n",
       "      <td>7.342961</td>\n",
       "      <td>0.111745</td>\n",
       "      <td>12.47261</td>\n",
       "      <td>0.002265</td>\n",
       "      <td>0.665642</td>\n",
       "      <td>3.454804e-06</td>\n",
       "      <td>0.389922</td>\n",
       "      <td>0.031231</td>\n",
       "      <td>0.0</td>\n",
       "      <td>0.079221</td>\n",
       "      <td>0.634411</td>\n",
       "      <td>0.389922</td>\n",
       "      <td>1.122216</td>\n",
       "      <td>1.627021</td>\n",
       "      <td>0.479938</td>\n",
       "    </tr>\n",
       "    <tr>\n",
       "      <th>...</th>\n",
       "      <td>...</td>\n",
       "      <td>...</td>\n",
       "      <td>...</td>\n",
       "      <td>...</td>\n",
       "      <td>...</td>\n",
       "      <td>...</td>\n",
       "      <td>...</td>\n",
       "      <td>...</td>\n",
       "      <td>...</td>\n",
       "      <td>...</td>\n",
       "      <td>...</td>\n",
       "      <td>...</td>\n",
       "      <td>...</td>\n",
       "      <td>...</td>\n",
       "      <td>...</td>\n",
       "      <td>...</td>\n",
       "      <td>...</td>\n",
       "      <td>...</td>\n",
       "    </tr>\n",
       "    <tr>\n",
       "      <th>4995</th>\n",
       "      <td>25.0</td>\n",
       "      <td>1.173291</td>\n",
       "      <td>0.265235</td>\n",
       "      <td>2.943964</td>\n",
       "      <td>0.025986</td>\n",
       "      <td>12.47261</td>\n",
       "      <td>0.000527</td>\n",
       "      <td>1.172764</td>\n",
       "      <td>8.034066e-07</td>\n",
       "      <td>0.265234</td>\n",
       "      <td>0.741223</td>\n",
       "      <td>0.0</td>\n",
       "      <td>0.053888</td>\n",
       "      <td>0.431541</td>\n",
       "      <td>0.265234</td>\n",
       "      <td>0.763357</td>\n",
       "      <td>1.627021</td>\n",
       "      <td>0.326465</td>\n",
       "    </tr>\n",
       "    <tr>\n",
       "      <th>4996</th>\n",
       "      <td>25.0</td>\n",
       "      <td>1.128475</td>\n",
       "      <td>0.411329</td>\n",
       "      <td>7.925439</td>\n",
       "      <td>0.113463</td>\n",
       "      <td>12.47261</td>\n",
       "      <td>0.002300</td>\n",
       "      <td>1.126175</td>\n",
       "      <td>3.507885e-06</td>\n",
       "      <td>0.411325</td>\n",
       "      <td>0.456941</td>\n",
       "      <td>0.0</td>\n",
       "      <td>0.083570</td>\n",
       "      <td>0.669234</td>\n",
       "      <td>0.411325</td>\n",
       "      <td>1.183815</td>\n",
       "      <td>1.627021</td>\n",
       "      <td>0.506282</td>\n",
       "    </tr>\n",
       "    <tr>\n",
       "      <th>4997</th>\n",
       "      <td>25.0</td>\n",
       "      <td>1.601654</td>\n",
       "      <td>0.537747</td>\n",
       "      <td>7.424736</td>\n",
       "      <td>0.093018</td>\n",
       "      <td>12.47261</td>\n",
       "      <td>0.001885</td>\n",
       "      <td>1.599769</td>\n",
       "      <td>2.875722e-06</td>\n",
       "      <td>0.537744</td>\n",
       "      <td>0.724849</td>\n",
       "      <td>0.0</td>\n",
       "      <td>0.109255</td>\n",
       "      <td>0.874920</td>\n",
       "      <td>0.537744</td>\n",
       "      <td>1.547654</td>\n",
       "      <td>1.627021</td>\n",
       "      <td>0.661885</td>\n",
       "    </tr>\n",
       "    <tr>\n",
       "      <th>4998</th>\n",
       "      <td>25.0</td>\n",
       "      <td>1.655962</td>\n",
       "      <td>0.552659</td>\n",
       "      <td>7.347502</td>\n",
       "      <td>0.090305</td>\n",
       "      <td>12.47261</td>\n",
       "      <td>0.001830</td>\n",
       "      <td>1.654132</td>\n",
       "      <td>2.791928e-06</td>\n",
       "      <td>0.552656</td>\n",
       "      <td>0.754949</td>\n",
       "      <td>0.0</td>\n",
       "      <td>0.112284</td>\n",
       "      <td>0.899183</td>\n",
       "      <td>0.552656</td>\n",
       "      <td>1.590573</td>\n",
       "      <td>1.627021</td>\n",
       "      <td>0.680240</td>\n",
       "    </tr>\n",
       "    <tr>\n",
       "      <th>4999</th>\n",
       "      <td>25.0</td>\n",
       "      <td>0.436910</td>\n",
       "      <td>0.415702</td>\n",
       "      <td>2.900461</td>\n",
       "      <td>0.036707</td>\n",
       "      <td>11.68002</td>\n",
       "      <td>0.000106</td>\n",
       "      <td>0.436804</td>\n",
       "      <td>9.246345e-06</td>\n",
       "      <td>0.415692</td>\n",
       "      <td>0.000000</td>\n",
       "      <td>0.0</td>\n",
       "      <td>0.065120</td>\n",
       "      <td>0.436804</td>\n",
       "      <td>0.415692</td>\n",
       "      <td>0.868633</td>\n",
       "      <td>1.050787</td>\n",
       "      <td>0.319508</td>\n",
       "    </tr>\n",
       "  </tbody>\n",
       "</table>\n",
       "<p>5000 rows × 18 columns</p>\n",
       "</div>"
      ],
      "text/plain": [
       "      T(C)    b(CaO)   b(SiO2)    b(H2O)   Vol(aq)        pH   nCa(aq)  \\\n",
       "0     25.0  0.508060  0.304081  3.438876  0.046061  12.47261  0.000934   \n",
       "1     25.0  1.258791  0.566548  4.655774  0.048550  12.47261  0.000984   \n",
       "2     25.0  1.396591  0.697116  4.671613  0.043398  12.47261  0.000880   \n",
       "3     25.0  1.461423  0.327679  7.328584  0.098560  12.47261  0.001998   \n",
       "4     25.0  0.667907  0.389925  7.342961  0.111745  12.47261  0.002265   \n",
       "...    ...       ...       ...       ...       ...       ...       ...   \n",
       "4995  25.0  1.173291  0.265235  2.943964  0.025986  12.47261  0.000527   \n",
       "4996  25.0  1.128475  0.411329  7.925439  0.113463  12.47261  0.002300   \n",
       "4997  25.0  1.601654  0.537747  7.424736  0.093018  12.47261  0.001885   \n",
       "4998  25.0  1.655962  0.552659  7.347502  0.090305  12.47261  0.001830   \n",
       "4999  25.0  0.436910  0.415702  2.900461  0.036707  11.68002  0.000106   \n",
       "\n",
       "        nCa(s)       nSi(aq)   nSi(s_reac)   nPortlandite   nAmor-Sl  \\\n",
       "0     0.507127  1.424097e-06      0.304080       0.012382        0.0   \n",
       "1     1.257807  1.501005e-06      0.566546       0.336025        0.0   \n",
       "2     1.395711  1.341699e-06      0.697115       0.261491        0.0   \n",
       "3     1.459425  3.047140e-06      0.327676       0.926290        0.0   \n",
       "4     0.665642  3.454804e-06      0.389922       0.031231        0.0   \n",
       "...        ...           ...           ...            ...        ...   \n",
       "4995  1.172764  8.034066e-07      0.265234       0.741223        0.0   \n",
       "4996  1.126175  3.507885e-06      0.411325       0.456941        0.0   \n",
       "4997  1.599769  2.875722e-06      0.537744       0.724849        0.0   \n",
       "4998  1.654132  2.791928e-06      0.552656       0.754949        0.0   \n",
       "4999  0.436804  9.246345e-06      0.415692       0.000000        0.0   \n",
       "\n",
       "         mCSHQ   nCa(CSHQ)   nSi(CSHQ)   nH2O(CSHQ)   C/S(CSHQ)   nGelPW(CSH)  \n",
       "0     0.061781    0.494744    0.304080     0.875158    1.627021      0.374278  \n",
       "1     0.115107    0.921782    0.566546     1.630550    1.627021      0.697336  \n",
       "2     0.141634    1.134221    0.697115     2.006333    1.627021      0.858048  \n",
       "3     0.066575    0.533135    0.327676     0.943068    1.627021      0.403321  \n",
       "4     0.079221    0.634411    0.389922     1.122216    1.627021      0.479938  \n",
       "...        ...         ...         ...          ...         ...           ...  \n",
       "4995  0.053888    0.431541    0.265234     0.763357    1.627021      0.326465  \n",
       "4996  0.083570    0.669234    0.411325     1.183815    1.627021      0.506282  \n",
       "4997  0.109255    0.874920    0.537744     1.547654    1.627021      0.661885  \n",
       "4998  0.112284    0.899183    0.552656     1.590573    1.627021      0.680240  \n",
       "4999  0.065120    0.436804    0.415692     0.868633    1.050787      0.319508  \n",
       "\n",
       "[5000 rows x 18 columns]"
      ]
     },
     "execution_count": 12,
     "metadata": {},
     "output_type": "execute_result"
    }
   ],
   "source": [
    "data"
   ]
  },
  {
   "cell_type": "code",
   "execution_count": 13,
   "id": "debab735-4eb0-4deb-bc51-73aafa1498cf",
   "metadata": {},
   "outputs": [
    {
     "data": {
      "text/plain": [
       "Index(['T(C)', ' b(CaO)', ' b(SiO2)', ' b(H2O)', ' Vol(aq)', ' pH', ' nCa(aq)',\n",
       "       ' nCa(s)', ' nSi(aq)', ' nSi(s_reac)', ' nPortlandite', ' nAmor-Sl',\n",
       "       ' mCSHQ', ' nCa(CSHQ)', ' nSi(CSHQ)', ' nH2O(CSHQ)', ' C/S(CSHQ)',\n",
       "       ' nGelPW(CSH)'],\n",
       "      dtype='object')"
      ]
     },
     "execution_count": 13,
     "metadata": {},
     "output_type": "execute_result"
    }
   ],
   "source": [
    "data.columns"
   ]
  },
  {
   "cell_type": "code",
   "execution_count": 14,
   "id": "7b6ece0e-7aa0-41b0-8120-d41637ccdc74",
   "metadata": {},
   "outputs": [],
   "source": [
    "data.columns =[col.strip() for col in data.columns]"
   ]
  },
  {
   "cell_type": "code",
   "execution_count": null,
   "id": "bfd8b2fc-2b2d-4c9c-b150-da6cf95b1d33",
   "metadata": {},
   "outputs": [
    {
     "data": {
      "application/vnd.jupyter.widget-view+json": {
       "model_id": "27a33fc68e1444608c786b9fffcbbf29",
       "version_major": 2,
       "version_minor": 0
      },
      "text/plain": [
       "Summarize dataset:   0%|          | 0/32 [00:00<?, ?it/s]"
      ]
     },
     "metadata": {},
     "output_type": "display_data"
    },
    {
     "data": {
      "application/vnd.jupyter.widget-view+json": {
       "model_id": "32411cd457424566acd403d065683cfb",
       "version_major": 2,
       "version_minor": 0
      },
      "text/plain": [
       "Generate report structure:   0%|          | 0/1 [00:00<?, ?it/s]"
      ]
     },
     "metadata": {},
     "output_type": "display_data"
    },
    {
     "data": {
      "application/vnd.jupyter.widget-view+json": {
       "model_id": "20a7549b0b644363b6e3227466645a47",
       "version_major": 2,
       "version_minor": 0
      },
      "text/plain": [
       "Render HTML:   0%|          | 0/1 [00:00<?, ?it/s]"
      ]
     },
     "metadata": {},
     "output_type": "display_data"
    }
   ],
   "source": [
    "profile = ProfileReport(data)\n",
    "profile"
   ]
  },
  {
   "cell_type": "code",
   "execution_count": null,
   "id": "b7e6d824-35e8-465b-9927-bb34aa08210e",
   "metadata": {},
   "outputs": [],
   "source": [
    "#profile.to_file(\"500DataReport.html\")\n",
    "profile.to_file(\"5000DataReport.html\")"
   ]
  },
  {
   "cell_type": "code",
   "execution_count": null,
   "id": "7cb4c130-759a-4e1a-9c11-a686d057f86f",
   "metadata": {},
   "outputs": [],
   "source": [
    "dataNew = data.copy()\n",
    "dataNew['ratio'] = dataNew['b(CaO)']/dataNew['b(SiO2)']"
   ]
  },
  {
   "cell_type": "code",
   "execution_count": null,
   "id": "3fc6d271-6f47-40f6-8119-149055e76239",
   "metadata": {},
   "outputs": [],
   "source": [
    "dataNew['ratio'].hist()"
   ]
  },
  {
   "cell_type": "code",
   "execution_count": null,
   "id": "57f9b158-b1b3-48df-a9e9-5d6f90c998e2",
   "metadata": {},
   "outputs": [],
   "source": []
  },
  {
   "cell_type": "code",
   "execution_count": null,
   "id": "e0862e0a-0b79-4052-95c3-e508f5d6b736",
   "metadata": {},
   "outputs": [],
   "source": [
    "group1 = dataNew[dataNew['ratio']>=1.65]\n",
    "group2 = dataNew[(dataNew['ratio']<1.65) & (dataNew['ratio']>0.67)]\n",
    "group3 = dataNew[dataNew['ratio']<=0.67]\n",
    "\n"
   ]
  },
  {
   "cell_type": "code",
   "execution_count": null,
   "id": "d128b323-4ceb-4431-9c04-f6e2a8f13913",
   "metadata": {},
   "outputs": [],
   "source": [
    "df = data.copy()\n",
    "fig, ax =plt.subplots(figsize=(10,8))\n",
    "x1= np.linspace(0.0,0.9,30);\n",
    "y1 = 0+0.67*x1\n",
    "x2= np.linspace(0.0,0.9,30);\n",
    "y2 = 0+1.65*x2\n",
    "ax.plot(group1['b(SiO2)'].values,group1['b(CaO)'].values,'bo',markerfacecolor = 'tab:olive',markeredgecolor ='darkblue',markeredgewidth=0.5,label='group1')\n",
    "ax.plot(group2['b(SiO2)'].values,group2['b(CaO)'].values,'bo',markerfacecolor = 'c',markeredgecolor ='b',markeredgewidth=0.5,label='group2')\n",
    "ax.plot(group3['b(SiO2)'].values,group3['b(CaO)'].values,'g^',markerfacecolor = 'm',markeredgecolor ='m',markeredgewidth=1,label='group3')\n",
    "ax.plot(x1,y1,'r-',lw=2,label ='Line1:CaO/SiO2 = 0.67')\n",
    "ax.plot(x2,y2,'y-',lw=3,label ='Line2:CaO/SiO2 = 1.65')\n",
    "ax.legend (loc='best',ncol=3)           \n",
    "ax.set_xlim(0,0.9)\n",
    "ax.set_ylim(0,2)\n",
    "\n",
    "ax.set_xlabel('b(SiO2')\n",
    "ax.set_ylabel('b(CaO')\n",
    "\n"
   ]
  },
  {
   "cell_type": "code",
   "execution_count": null,
   "id": "50b338e8-6a7e-4270-af34-b3966e82c6a4",
   "metadata": {},
   "outputs": [],
   "source": [
    "profile_group1 = ProfileReport(group1)\n",
    "profile_group1.to_file('Group1_profiling.html')"
   ]
  },
  {
   "cell_type": "code",
   "execution_count": null,
   "id": "2376f7e2-b925-4063-86fa-93e254831db7",
   "metadata": {},
   "outputs": [],
   "source": [
    "profile_group2 = ProfileReport(group2)\n",
    "profile_group2.to_file('Group2_profiling.html')"
   ]
  },
  {
   "cell_type": "code",
   "execution_count": null,
   "id": "f2bc5513-b1dc-4b1c-bf4e-a8827df16130",
   "metadata": {},
   "outputs": [],
   "source": [
    "profile_group3 = ProfileReport(group3)\n",
    "profile_group3.to_file('Group3_profiling.html')"
   ]
  },
  {
   "cell_type": "code",
   "execution_count": null,
   "id": "5c75febc-88f1-4d9e-a37a-94b7e06a904f",
   "metadata": {},
   "outputs": [],
   "source": []
  }
 ],
 "metadata": {
  "kernelspec": {
   "display_name": "Python 3 (ipykernel)",
   "language": "python",
   "name": "python3"
  },
  "language_info": {
   "codemirror_mode": {
    "name": "ipython",
    "version": 3
   },
   "file_extension": ".py",
   "mimetype": "text/x-python",
   "name": "python",
   "nbconvert_exporter": "python",
   "pygments_lexer": "ipython3",
   "version": "3.8.13"
  }
 },
 "nbformat": 4,
 "nbformat_minor": 5
}
