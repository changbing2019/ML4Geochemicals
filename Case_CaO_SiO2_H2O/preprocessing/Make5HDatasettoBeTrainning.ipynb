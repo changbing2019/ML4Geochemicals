{
 "cells": [
  {
   "cell_type": "code",
   "execution_count": 1,
   "id": "372452d9-61bf-4f3a-889d-e882c8bc630a",
   "metadata": {},
   "outputs": [],
   "source": [
    "import pickle"
   ]
  },
  {
   "cell_type": "code",
   "execution_count": 2,
   "id": "b9eb22aa-32a2-459b-a631-4883eef866fe",
   "metadata": {},
   "outputs": [],
   "source": [
    "import matplotlib.pyplot as plt\n",
    "import matplotlib as mpl\n",
    "\n",
    "import numpy as np\n",
    "%matplotlib inline\n",
    "import pandas as pd"
   ]
  },
  {
   "cell_type": "code",
   "execution_count": 3,
   "id": "1a08a9d5-8101-43f1-998c-e1222ed6be70",
   "metadata": {},
   "outputs": [],
   "source": [
    "import os, glob\n",
    "import seaborn as sns\n",
    "sns.set(style=\"darkgrid\")"
   ]
  },
  {
   "cell_type": "code",
   "execution_count": 4,
   "id": "b563500e-4f3a-45c3-be9a-14d76e59d501",
   "metadata": {},
   "outputs": [],
   "source": [
    "from IPython.display import display, HTML, Image"
   ]
  },
  {
   "cell_type": "code",
   "execution_count": 5,
   "id": "01bfc0d0-8cf1-4356-b9ac-f3e6aaebaafc",
   "metadata": {},
   "outputs": [],
   "source": [
    "from sklearn.model_selection import train_test_split\n"
   ]
  },
  {
   "cell_type": "code",
   "execution_count": 6,
   "id": "02a8e8eb-a986-4062-8759-74e51b8a2b89",
   "metadata": {},
   "outputs": [],
   "source": [
    "data =pd.read_csv('10_PC_02_LHS_500_54854_01_s1_G.csv')\n",
    "data5k =pd.read_csv(r'F:\\ML4ChemcialReactions\\chemical5K\\10_PC_02_LHS_5000_54854_01_s1_G.csv')"
   ]
  },
  {
   "cell_type": "code",
   "execution_count": 7,
   "id": "7b6ece0e-7aa0-41b0-8120-d41637ccdc74",
   "metadata": {},
   "outputs": [],
   "source": [
    "### Remove the space from the column names\n",
    "data.columns =[col.strip() for col in data.columns]\n",
    "data5k.columns =[col.strip() for col in data5k.columns]\n"
   ]
  },
  {
   "cell_type": "code",
   "execution_count": null,
   "id": "bd2300ed-d856-4150-aaf6-2e208ca6f224",
   "metadata": {},
   "outputs": [],
   "source": []
  },
  {
   "cell_type": "code",
   "execution_count": null,
   "id": "496ba804-89d0-4ba5-b9b2-3938d888ee29",
   "metadata": {},
   "outputs": [],
   "source": []
  },
  {
   "cell_type": "markdown",
   "id": "91d61d3c-a7fe-4834-886c-b5047cc52122",
   "metadata": {},
   "source": [
    "## Calculate the ratio of CaO to SiO2\n",
    "\n",
    "## Put all togehter"
   ]
  },
  {
   "cell_type": "code",
   "execution_count": 8,
   "id": "7cb4c130-759a-4e1a-9c11-a686d057f86f",
   "metadata": {},
   "outputs": [],
   "source": [
    "\n",
    "data['ratio'] = data['b(CaO)']/data['b(SiO2)']\n",
    "data5k['ratio'] = data5k['b(CaO)']/data5k['b(SiO2)']"
   ]
  },
  {
   "cell_type": "code",
   "execution_count": 9,
   "id": "6ebafe1f-c0d3-4137-85be-7c17089390e8",
   "metadata": {},
   "outputs": [],
   "source": [
    "#group1 = data[data['ratio']>=1.60]\n",
    "#group2 = data[(data['ratio']<1.60) & (data['ratio']>0.67)]\n",
    "#group3 = data[data['ratio']<=0.67]\n",
    "group5k_1 = data5k[(data5k['nPortlandite']>=0.001)& (data5k['nAmor-Sl']<=0.001)]  # with Portlandite, no Amor-S1\n",
    "group5k_2 = data5k[(data5k['nPortlandite']<=0.001)& (data5k['nAmor-Sl']<=0.001)]   # no Portlandite, no Amor-S1\n",
    "group5k_3 = data5k[(data5k['nPortlandite']<=0.001)& (data5k['nAmor-Sl']>=0.001)]    # no Portlandite, with Amor-S1"
   ]
  },
  {
   "cell_type": "code",
   "execution_count": 10,
   "id": "109c10dd-3a82-43df-a5af-fda7422a0b49",
   "metadata": {},
   "outputs": [
    {
     "name": "stdout",
     "output_type": "stream",
     "text": [
      "8.540749112357153 1.6332348368965248\n"
     ]
    }
   ],
   "source": [
    "print(group5k_1['ratio'].max(),group5k_1['ratio'].min())  # with Portlandite, no Amor-S1\n",
    "group1_low=group5k_1['ratio'].min()"
   ]
  },
  {
   "cell_type": "code",
   "execution_count": 11,
   "id": "a3b68157-4907-4fa2-93ba-3b18159eeb43",
   "metadata": {},
   "outputs": [
    {
     "name": "stdout",
     "output_type": "stream",
     "text": [
      "1.6347578830913554 0.6733330997218754\n"
     ]
    }
   ],
   "source": [
    "print(group5k_2['ratio'].max(),group5k_2['ratio'].min())   # no Portlandite, no Amor-S1\n",
    "\n",
    "group2_upper=group5k_2['ratio'].max()\n",
    "group2_low =group5k_2['ratio'].min()   # no Portlandite, no Amor-S1\n"
   ]
  },
  {
   "cell_type": "code",
   "execution_count": 12,
   "id": "160d5432-e23a-46dd-8c29-7f5f2a2a3f83",
   "metadata": {},
   "outputs": [
    {
     "name": "stdout",
     "output_type": "stream",
     "text": [
      "0.6722489930692754 0.15561277244409333\n"
     ]
    }
   ],
   "source": [
    "print(group5k_3['ratio'].max(),group5k_3['ratio'].min()) # no Portlandite, with Amor-S1\n",
    "group3_upper= group5k_3['ratio'].max()"
   ]
  },
  {
   "cell_type": "code",
   "execution_count": null,
   "id": "a151acda-7af0-4074-a712-12963cabd2ad",
   "metadata": {},
   "outputs": [],
   "source": []
  },
  {
   "cell_type": "code",
   "execution_count": 13,
   "id": "e0862e0a-0b79-4052-95c3-e508f5d6b736",
   "metadata": {},
   "outputs": [],
   "source": [
    "## Devided 3 groups which are based on the Data distribution, particularly pH distribution\n",
    "# ratio of 1.65 is based on 500-dataset. it seems that 1.60 is better based on 5K-dataset.\n",
    "#This suggests that more data near to the boundary, more accurate the line can be determined\n",
    "group1 = data[data['ratio']>=group1_low]  # with Portlandite, no Amor-S1\n",
    "group2 = data[(data['ratio']<=group2_upper) & (data['ratio']>=group2_low)]  # no Portlandite, no Amor-S1\n",
    "group3 = data[data['ratio']<=group3_upper]     # no Portlandite, with Amor-S1\n",
    "group5k1 = data5k[data5k['ratio']>=group1_low]  # with Portlandite, no Amor-S1\n",
    "group5k2 = data5k[(group2_low<=data5k['ratio']) & (data5k['ratio']<=group2_upper)]  # no Portlandite, no Amor-S1\n",
    "group5k3 = data5k[data5k['ratio']<=group3_upper]    # no Portlandite, with Amor-S1"
   ]
  },
  {
   "cell_type": "code",
   "execution_count": 14,
   "id": "a95d654e-b203-448c-af7d-1e76a279abc2",
   "metadata": {},
   "outputs": [],
   "source": [
    "from sklearn.model_selection import train_test_split"
   ]
  },
  {
   "cell_type": "code",
   "execution_count": 15,
   "id": "4fc8bc90-c059-4f4b-bcba-cb292ef4b31f",
   "metadata": {},
   "outputs": [],
   "source": [
    "### Output the trainning dataset for dataset5K\n",
    "group1_XY_train,group1_XY_test = train_test_split(group5k1.values,test_size=0.2, train_size=0.4,shuffle=True)\n",
    "group2_XY_train,group2_XY_test = train_test_split(group5k2.values,test_size=0.2, train_size=0.4,shuffle=True)\n",
    "group3_XY_train,group3_XY_test = train_test_split(group5k3.values,test_size=0.2, train_size=0.4,shuffle=True)\n",
    "test_XY=np.concatenate((group1_XY_test,group2_XY_test,group3_XY_test))\n",
    "### Save the data to local drive\n",
    "testDF = pd.DataFrame(test_XY,columns=data.columns)\n",
    "group1DF_train = pd.DataFrame(group1_XY_train,columns=data.columns)\n",
    "group2DF_train = pd.DataFrame(group2_XY_train,columns=data.columns)\n",
    "group3DF_train = pd.DataFrame(group3_XY_train,columns=data.columns)\n",
    "\n",
    "\n",
    "## exclude the ratio column\n",
    "testDF.loc[:,testDF.columns!='ratio'].to_csv('dataset5K_test3k.csv',index=False)\n",
    "group1DF_train.loc[:,group1DF_train.columns!='ratio'].to_csv('Group5K1_trainning_dataset2k.csv',index=False)\n",
    "group2DF_train.loc[:,group2DF_train.columns!='ratio'].to_csv('Group5K2_trainning_dataset2k.csv',index=False)\n",
    "group3DF_train.loc[:,group3DF_train.columns!='ratio'].to_csv('Group5K3_trainning_dataset2k.csv',index=False)\n",
    "\n",
    "\n"
   ]
  },
  {
   "cell_type": "code",
   "execution_count": null,
   "id": "acc8b88b-be25-45ab-b354-373923281370",
   "metadata": {},
   "outputs": [],
   "source": [
    "### This dataset will be saved for testing the models\n"
   ]
  },
  {
   "cell_type": "code",
   "execution_count": 17,
   "id": "d9275b6b-5892-4a69-85c8-775d277d552c",
   "metadata": {},
   "outputs": [],
   "source": [
    "group1_XY_train = group1.values\n",
    "group2_XY_train = group2.values\n",
    "group3_XY_train = group3.values\n",
    "\n",
    "#test_XY=np.concatenate((group1_XY_test,group2_XY_test,group3_XY_test))\n",
    "### Save the data to local drive\n",
    "#testDF = pd.DataFrame(test_XY,columns=data.columns)\n",
    "group1DF_train = pd.DataFrame(group1_XY_train,columns=data.columns)\n",
    "group2DF_train = pd.DataFrame(group2_XY_train,columns=data.columns)\n",
    "group3DF_train = pd.DataFrame(group3_XY_train,columns=data.columns)\n",
    "## exclude the ratio column\n",
    "#testDF.loc[:,testDF.columns!='ratio'].to_csv('dataset5H_test.csv',index=False)\n",
    "group1DF_train.loc[:,group1DF_train.columns!='ratio'].to_csv('Group5H1_trainning_dataset_all.csv',index=False)\n",
    "group2DF_train.loc[:,group2DF_train.columns!='ratio'].to_csv('Group5H2_trainning_dataset_all.csv',index=False)\n",
    "group3DF_train.loc[:,group3DF_train.columns!='ratio'].to_csv('Group5H3_trainning_dataset_all.csv',index=False)\n"
   ]
  },
  {
   "cell_type": "code",
   "execution_count": null,
   "id": "26e5fab7-6c6d-4107-aee5-61c91a0f7289",
   "metadata": {},
   "outputs": [],
   "source": []
  },
  {
   "cell_type": "code",
   "execution_count": null,
   "id": "d128b323-4ceb-4431-9c04-f6e2a8f13913",
   "metadata": {},
   "outputs": [],
   "source": [
    "### Visualizing the three groups \n",
    "fig, ax =plt.subplots(figsize=(12,8))\n",
    "x1= np.linspace(0.0,0.9,30);\n",
    "y1 = 0+group3_upper*x1\n",
    "x2= np.linspace(0.0,0.9,30);\n",
    "y2 = 0+group1_low*x2\n",
    "#ax.plot(data5k['b(SiO2)'].values,data5k['b(CaO)'].values,'b.',markerfacecolor = 'tab:olive',markeredgecolor ='darkblue',markeredgewidth=0.5,label='data5k')\n",
    "ax.plot(group5k1['b(SiO2)'].values,group5k1['b(CaO)'].values,'bo',markerfacecolor = 'tab:olive',markeredgecolor ='darkblue',markeredgewidth=0.5,label='group5k1')\n",
    "ax.plot(group5k2['b(SiO2)'].values,group5k2['b(CaO)'].values,'bo',markerfacecolor = 'c',markeredgecolor ='b',markeredgewidth=0.5,label='group5k2')\n",
    "ax.plot(group5k3['b(SiO2)'].values,group5k3['b(CaO)'].values,'g^',markerfacecolor = 'm',markeredgecolor ='m',markeredgewidth=1,label='group5k3')\n",
    "\n",
    "ax.plot(group1['b(SiO2)'].values,group1['b(CaO)'].values,'bo',markerfacecolor = 'tab:olive',markeredgecolor ='darkblue',markeredgewidth=0.5,label='group5H1')\n",
    "ax.plot(group2['b(SiO2)'].values,group2['b(CaO)'].values,'bo',markerfacecolor = 'c',markeredgecolor ='b',markeredgewidth=0.5,label='group5H2')\n",
    "ax.plot(group3['b(SiO2)'].values,group3['b(CaO)'].values,'g^',markerfacecolor = 'm',markeredgecolor ='m',markeredgewidth=1,label='group5H3')\n",
    "ax.plot(x1,y1,'r-',lw=2,label ='Line 1:CaO/SiO2 = '+str(group3_upper)[:5])\n",
    "ax.plot(x2,y2,'y-',lw=3,label ='Line 2:CaO/SiO2 = '+str(group1_low)[:5])\n",
    "ax.legend (loc='best',ncol=5)           \n",
    "ax.set_xlim(0,0.9)\n",
    "ax.set_ylim(0,2.2)\n",
    "ax.text(0.1, 1.25, 'no Amor-Si, with Portlandite',fontsize = 20,color = 'brown')\n",
    "ax.text(0.5, 0.62, 'no Amor-Si or Portlandite',fontsize = 20,color = 'k')\n",
    "ax.text(0.35, 0.02, 'with Amor-Si no Portlandite',fontsize = 20,color = 'k')\n",
    "\n",
    "\n",
    "ax.set_xlabel('b(SiO2)')\n",
    "ax.set_ylabel('b(CaO)')\n",
    "\n"
   ]
  },
  {
   "cell_type": "code",
   "execution_count": null,
   "id": "ab73f5ee-344a-4c9a-949e-aa71e70d1623",
   "metadata": {},
   "outputs": [],
   "source": []
  }
 ],
 "metadata": {
  "kernelspec": {
   "display_name": "Python 3 (ipykernel)",
   "language": "python",
   "name": "python3"
  },
  "language_info": {
   "codemirror_mode": {
    "name": "ipython",
    "version": 3
   },
   "file_extension": ".py",
   "mimetype": "text/x-python",
   "name": "python",
   "nbconvert_exporter": "python",
   "pygments_lexer": "ipython3",
   "version": "3.8.13"
  }
 },
 "nbformat": 4,
 "nbformat_minor": 5
}
