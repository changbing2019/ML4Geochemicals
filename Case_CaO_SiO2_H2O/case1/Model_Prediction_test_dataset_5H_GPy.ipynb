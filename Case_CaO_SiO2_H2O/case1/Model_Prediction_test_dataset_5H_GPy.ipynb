{
 "cells": [
  {
   "cell_type": "code",
   "execution_count": 1,
   "id": "9bd4b688",
   "metadata": {
    "scrolled": false
   },
   "outputs": [
    {
     "ename": "ModuleNotFoundError",
     "evalue": "No module named 'lightgbm'",
     "output_type": "error",
     "traceback": [
      "\u001b[1;31m---------------------------------------------------------------------------\u001b[0m",
      "\u001b[1;31mModuleNotFoundError\u001b[0m                       Traceback (most recent call last)",
      "\u001b[1;32m~\\AppData\\Local\\Temp\\ipykernel_16924\\4132526677.py\u001b[0m in \u001b[0;36m<cell line: 9>\u001b[1;34m()\u001b[0m\n\u001b[0;32m      7\u001b[0m \u001b[1;32mfrom\u001b[0m \u001b[0msklearn\u001b[0m\u001b[1;33m.\u001b[0m\u001b[0mmodel_selection\u001b[0m \u001b[1;32mimport\u001b[0m \u001b[0mRepeatedKFold\u001b[0m\u001b[1;33m,\u001b[0m \u001b[0mcross_validate\u001b[0m\u001b[1;33m\u001b[0m\u001b[1;33m\u001b[0m\u001b[0m\n\u001b[0;32m      8\u001b[0m \u001b[1;32mfrom\u001b[0m \u001b[0msklearn\u001b[0m\u001b[1;33m.\u001b[0m\u001b[0mmodel_selection\u001b[0m \u001b[1;32mimport\u001b[0m \u001b[0mtrain_test_split\u001b[0m\u001b[1;33m\u001b[0m\u001b[1;33m\u001b[0m\u001b[0m\n\u001b[1;32m----> 9\u001b[1;33m \u001b[1;32mimport\u001b[0m \u001b[0mlightgbm\u001b[0m \u001b[1;32mas\u001b[0m \u001b[0mlgb\u001b[0m\u001b[1;33m\u001b[0m\u001b[1;33m\u001b[0m\u001b[0m\n\u001b[0m\u001b[0;32m     10\u001b[0m \u001b[1;32mfrom\u001b[0m \u001b[0msklearn\u001b[0m\u001b[1;33m.\u001b[0m\u001b[0mmetrics\u001b[0m \u001b[1;32mimport\u001b[0m \u001b[0mr2_score\u001b[0m\u001b[1;33m\u001b[0m\u001b[1;33m\u001b[0m\u001b[0m\n\u001b[0;32m     11\u001b[0m \u001b[1;32mfrom\u001b[0m \u001b[0msklearn\u001b[0m\u001b[1;33m.\u001b[0m\u001b[0mmetrics\u001b[0m \u001b[1;32mimport\u001b[0m \u001b[0mmean_squared_error\u001b[0m\u001b[1;33m\u001b[0m\u001b[1;33m\u001b[0m\u001b[0m\n",
      "\u001b[1;31mModuleNotFoundError\u001b[0m: No module named 'lightgbm'"
     ]
    }
   ],
   "source": [
    "import pickle\n",
    "import numpy as np\n",
    "import pandas as pd\n",
    "import os, glob\n",
    "import seaborn as sns\n",
    "from sklearn.model_selection import cross_val_score\n",
    "from sklearn.model_selection import RepeatedKFold, cross_validate\n",
    "from sklearn.model_selection import train_test_split\n",
    "import lightgbm as lgb\n",
    "from sklearn.metrics import r2_score\n",
    "from sklearn.metrics import mean_squared_error\n",
    "\n",
    "## The following are the ML models which can be used for trasinning\n",
    "from sklearn.model_selection import RandomizedSearchCV\n",
    "from sklearn.neural_network import MLPRegressor\n",
    "from sklearn.ensemble import RandomForestRegressor,  GradientBoostingRegressor\n",
    "from xgboost import XGBRegressor\n",
    "from lightgbm import LGBMRegressor\n",
    "from sklearn.gaussian_process import GaussianProcessRegressor\n",
    "from sklearn.gaussian_process.kernels import Matern\n",
    "from sklearn.linear_model import LinearRegression\n",
    "\n",
    "from sklearn.preprocessing import MinMaxScaler,StandardScaler\n",
    "\n",
    "import timeit\n",
    "import warnings\n",
    "warnings.filterwarnings(\"ignore\")\n"
   ]
  },
  {
   "cell_type": "code",
   "execution_count": null,
   "id": "166ccab7",
   "metadata": {
    "scrolled": false
   },
   "outputs": [],
   "source": [
    "import matplotlib.pyplot as plt\n",
    "import matplotlib as mpl\n",
    "\n",
    "import numpy as np\n",
    "%matplotlib inline\n",
    "import pandas as pd"
   ]
  },
  {
   "cell_type": "code",
   "execution_count": null,
   "id": "bbca8f5d",
   "metadata": {
    "scrolled": false
   },
   "outputs": [],
   "source": [
    "import seaborn as sns\n",
    "sns.set(style=\"darkgrid\")"
   ]
  },
  {
   "cell_type": "code",
   "execution_count": null,
   "id": "c59e722a",
   "metadata": {
    "scrolled": false
   },
   "outputs": [],
   "source": [
    "sns.set_context('talk')"
   ]
  },
  {
   "cell_type": "code",
   "execution_count": null,
   "id": "bc20df9e",
   "metadata": {
    "scrolled": false
   },
   "outputs": [],
   "source": [
    "from IPython.display import display, HTML, Image"
   ]
  },
  {
   "cell_type": "code",
   "execution_count": null,
   "id": "9d922587",
   "metadata": {
    "scrolled": false
   },
   "outputs": [],
   "source": [
    "import matplotlib.colors as mcolors"
   ]
  },
  {
   "cell_type": "code",
   "execution_count": null,
   "id": "e12d4093",
   "metadata": {
    "scrolled": false
   },
   "outputs": [],
   "source": []
  },
  {
   "cell_type": "code",
   "execution_count": null,
   "id": "52f6267a",
   "metadata": {
    "scrolled": false
   },
   "outputs": [],
   "source": [
    "dataFolder = os.getcwd()"
   ]
  },
  {
   "cell_type": "code",
   "execution_count": null,
   "id": "611f13d5",
   "metadata": {
    "scrolled": false
   },
   "outputs": [],
   "source": [
    "group1_low =1.634\n",
    "group2_low =0.673\n",
    "group2_upper =1.634\n",
    "group3_upper =0.673"
   ]
  },
  {
   "cell_type": "code",
   "execution_count": null,
   "id": "e90cd906",
   "metadata": {
    "scrolled": false
   },
   "outputs": [],
   "source": [
    "## read the test file\n",
    "data =pd.read_csv(os.path.join(dataFolder,'dataset5H_test.csv'))\n",
    "data.columns =[col.strip() for col in data.columns]\n",
    "data['ratio'] = data['b(CaO)']/data['b(SiO2)']\n",
    "group1 = data[data['ratio']>=group1_low]  # with Portlandite, no Amor-S1\n",
    "group2 = data[(data['ratio']<=group2_upper) & (data['ratio']>=group2_low)]  # no Portlandite, no Amor-S1\n",
    "group3 = data[data['ratio']<=group3_upper]     # no Portlandite, with Amor-S1\n",
    "groups = [group1,group2,group3]\n"
   ]
  },
  {
   "cell_type": "code",
   "execution_count": null,
   "id": "4686c8f7",
   "metadata": {
    "scrolled": false
   },
   "outputs": [],
   "source": [
    "## read trained Model info:\n",
    "modelInfo =pd.read_csv(os.path.join(dataFolder,'ModelTrainSummary.csv'))\n",
    "modelInfo = modelInfo.iloc[:,1:4]\n",
    "modelInfo"
   ]
  },
  {
   "cell_type": "code",
   "execution_count": null,
   "id": "3abdf164",
   "metadata": {},
   "outputs": [],
   "source": [
    "modelInfo['modelType'].unique()"
   ]
  },
  {
   "cell_type": "code",
   "execution_count": null,
   "id": "8d6a1ff9",
   "metadata": {},
   "outputs": [],
   "source": [
    "modelInfo=modelInfo[modelInfo['modelType'].isin(['CONST','linear','GPyModel'])]"
   ]
  },
  {
   "cell_type": "code",
   "execution_count": null,
   "id": "2e0af0d0",
   "metadata": {
    "scrolled": true
   },
   "outputs": [],
   "source": [
    "modelTypeLst = modelInfo['modelType'].unique()\n",
    "MLModels =[ml for ml in modelTypeLst if 'Model' in ml]\n",
    "nonMLModels = [ml for ml in modelTypeLst if 'Model' not in ml]"
   ]
  },
  {
   "cell_type": "code",
   "execution_count": null,
   "id": "a340809e",
   "metadata": {
    "scrolled": true
   },
   "outputs": [],
   "source": []
  },
  {
   "cell_type": "code",
   "execution_count": null,
   "id": "bdb35307",
   "metadata": {
    "scrolled": false
   },
   "outputs": [],
   "source": [
    "## load the mdoels\n",
    "dataCols = data.columns.to_list()\n",
    "modelsLst = []\n",
    "for irow,row in modelInfo.iterrows():\n",
    "    group = row['group']\n",
    "    var =row['var']\n",
    "    modelType = row['modelType']\n",
    "    icol =dataCols.index(var)\n",
    "    if '/' in var:\n",
    "        fileCol = var.replace(\"/\",'')\n",
    "    else:\n",
    "        fileCol = var            \n",
    "\n",
    "    modelFolder = os.path.join(dataFolder,'SavedModel',group)\n",
    "    if modelType=='CONST':\n",
    "        ext = '.csv'\n",
    "        fileName = os.path.join(modelFolder,modelType + '_'+str(icol)+'_'+fileCol+ext)\n",
    "        tempModel =pd.read_csv(fileName)\n",
    "    else:\n",
    "        ext ='.sav'\n",
    "        fileName = os.path.join(modelFolder,modelType + '_'+str(icol)+'_'+fileCol+ext)\n",
    "        tempModel = pickle.load(open(fileName, 'rb'))\n",
    "    \n",
    "    modelsLst.append(tempModel)\n",
    "\n",
    "modelInfo['modelObj'] = modelsLst   \n"
   ]
  },
  {
   "cell_type": "code",
   "execution_count": null,
   "id": "826aee83",
   "metadata": {
    "scrolled": true
   },
   "outputs": [],
   "source": []
  },
  {
   "cell_type": "code",
   "execution_count": null,
   "id": "96820fef",
   "metadata": {
    "scrolled": false
   },
   "outputs": [],
   "source": [
    "finalDF = pd.DataFrame()\n",
    "for ML in MLModels:\n",
    "    modelProcessing =[]\n",
    "    modelProcessing = nonMLModels.copy()\n",
    "    modelProcessing.append(ML)\n",
    "    tempModelInfo = modelInfo[modelInfo['modelType'].isin(modelProcessing)]\n",
    "    for col in group1.columns[4:-1]:  # exclude 'ratio' \n",
    "        colModelInfo = tempModelInfo[tempModelInfo['var'] == col]  \n",
    "        \n",
    "        for i, group in enumerate(groups):\n",
    "        \n",
    "            dataX = group.iloc[:,1:4]    \n",
    "            dataY = group[col].values\n",
    "            groupModelInfo = colModelInfo[colModelInfo['group'] =='group'+str(i+1)]\n",
    "            modelType = groupModelInfo['modelType'].values[0]\n",
    "            model = groupModelInfo['modelObj'].values[0]\n",
    "            if modelType=='CONST':\n",
    "                y_pred = list(model['const'].values)*len(dataY)\n",
    "                \n",
    "            elif modelType=='linear':\n",
    "                y_pred = model.predict(dataX.values)\n",
    "            \n",
    "            else:\n",
    "                scaler = StandardScaler().fit(dataX.values)\n",
    "                X_scaled = scaler.transform(dataX.values)  # This will be used for input of trainning dataset\n",
    "                y_pred  = model.predict(X_scaled)  \n",
    "    \n",
    "            tempDF = pd.DataFrame({'testDataY':dataY, 'predDataY':y_pred})\n",
    "            tempDF['modelType'] = [modelType]*len(tempDF)\n",
    "            tempDF['var'] = [col]*len(tempDF)\n",
    "            tempDF['group'] = ['group'+str(i+1)]*len(tempDF)\n",
    "            tempDF['modelSimulation'] = [ML+'_simulation']*len(tempDF)\n",
    "                \n",
    "            if len(finalDF)==0:   \n",
    "                finalDF = tempDF\n",
    "            else:\n",
    "                finalDF = pd.concat([finalDF,tempDF],axis=0)\n",
    "    "
   ]
  },
  {
   "cell_type": "code",
   "execution_count": null,
   "id": "671276fc",
   "metadata": {
    "scrolled": false
   },
   "outputs": [],
   "source": [
    "finalDF.to_csv('Comparison_predict_testDataset.csv',index=False)"
   ]
  },
  {
   "cell_type": "markdown",
   "id": "e9781dfe",
   "metadata": {},
   "source": [
    "# Visualization of the prediction of the test dataset"
   ]
  },
  {
   "cell_type": "code",
   "execution_count": null,
   "id": "b89b3e74",
   "metadata": {
    "scrolled": false
   },
   "outputs": [],
   "source": [
    "def drawPlots(trgVar,testDataY,predDataY,simulation):\n",
    "    \n",
    "    fig, ax =plt.subplots(figsize=(8,8))\n",
    "    \n",
    "    RMSE = mean_squared_error(testDataY,predDataY)\n",
    "    R2   = r2_score(testDataY,predDataY)\n",
    "    axMax = max(max(testDataY),max(predDataY))\n",
    "    axMin = min(min(testDataY),min(predDataY))\n",
    "    \n",
    "    ## Fitting the line           \n",
    "    x2= np.linspace(axMin,axMax,30);\n",
    "    y2 = x2\n",
    "    ax.plot(testDataY,predDataY,'bo',markerfacecolor = 'blue',markeredgecolor ='darkblue',markeredgewidth=0.5,label=trgVar)\n",
    "    \n",
    "    #ax.plot(df3['b(SiO2)'].values,df3['b(CaO)'].values,'bo',markerfacecolor = 'c',markeredgecolor ='b',markeredgewidth=0.5,label='no Amor-S1')\n",
    "    #ax.plot(group3['b(SiO2)'].values,group3['b(CaO)'].values,'g^',markerfacecolor = 'm',markeredgecolor ='m',markeredgewidth=1,label='group3')\n",
    "    ax.plot(x2,y2,'r-',lw=3,label ='1:1 ratio')\n",
    "    ax.legend (loc='best',ncol=5)           \n",
    "    ax.set_xlim(axMin,axMax)\n",
    "    ax.set_ylim(axMin,axMax)\n",
    "    #ax.text(0.05, 0.8, 'Above the line with Portlandite',fontsize = 20,color = 'k')\n",
    "    #ax.text(0.4, 0.50, 'Below the line no Portlandite',fontsize = 20,color = 'k')\n",
    "    ax.set_title(simulation+ ' ====> '+trgVar)\n",
    "    ax.set_xlabel('testDataY')\n",
    "    ax.set_ylabel('PredDataY')    \n",
    "        \n",
    "    return R2, RMSE    "
   ]
  },
  {
   "cell_type": "code",
   "execution_count": null,
   "id": "6fee0755",
   "metadata": {},
   "outputs": [],
   "source": []
  },
  {
   "cell_type": "code",
   "execution_count": null,
   "id": "b07df49f",
   "metadata": {
    "scrolled": true
   },
   "outputs": [],
   "source": [
    "modelSimulations = finalDF['modelSimulation'].unique()\n",
    "trgVars = finalDF['var'].unique()\n",
    "statMeasure = []\n",
    "for simulation in modelSimulations:\n",
    "    if 'MLP' in simulation or 'xgb' in simulation: # skip the xgb and MLP models\n",
    "        continue\n",
    "    tempDF = finalDF[finalDF['modelSimulation']==simulation]\n",
    "    for trgVar in trgVars:\n",
    "        df = tempDF[tempDF['var']==trgVar]  # no Portlandite\n",
    "        testDataY = df['testDataY'].values\n",
    "        predDataY = df['predDataY'].values\n",
    "        R2,RMSE = drawPlots(trgVar,testDataY,predDataY,simulation)\n",
    "        statMeasure.append([trgVar,R2,RMSE,simulation])\n",
    "    \n",
    "statMeasDF = pd.DataFrame(statMeasure,columns=['Var','R2','RMSE','modelSimulation'])    \n"
   ]
  },
  {
   "cell_type": "code",
   "execution_count": null,
   "id": "403f2f2b",
   "metadata": {
    "scrolled": false
   },
   "outputs": [],
   "source": [
    "statMeasDF"
   ]
  },
  {
   "cell_type": "code",
   "execution_count": null,
   "id": "44cfebdf",
   "metadata": {
    "scrolled": false
   },
   "outputs": [],
   "source": [
    "statMeasDF_pivot=statMeasDF.pivot(index='Var',values=['R2','RMSE'],columns='modelSimulation')\n",
    "statMeasDF.to_csv('statMeasure_trainDataset_noPivot.csv',index = False)\n",
    "\n",
    "statMeasDF_pivot.to_csv('statMeasure_trainDataset_Pivot.csv')"
   ]
  },
  {
   "cell_type": "code",
   "execution_count": null,
   "id": "e85a45e2",
   "metadata": {
    "scrolled": false
   },
   "outputs": [],
   "source": [
    "## alternative way to draw figures"
   ]
  },
  {
   "cell_type": "code",
   "execution_count": null,
   "id": "cb09ff03",
   "metadata": {
    "scrolled": true
   },
   "outputs": [],
   "source": []
  },
  {
   "cell_type": "code",
   "execution_count": null,
   "id": "7bad12a8",
   "metadata": {
    "scrolled": true
   },
   "outputs": [],
   "source": [
    "def drawCombiningPlots(plotDataDF,trgVar):\n",
    "    \n",
    "    fig, ax =plt.subplots(figsize=(10,10))\n",
    "    \n",
    "    marker = ['o', 'v', '^', '<', '>', '8', 's', 'p', '*', 'h', 'H', 'D', 'd', 'P', 'X']\n",
    "    colors = ['tab:blue','tab:orange','tab:gray','tab:olive','tab:cyan','tab:green']\n",
    "    ## Fitting the line           \n",
    "    axisMin=1000\n",
    "    axisMax =-1000\n",
    "    for i, col in enumerate(plotDataDF.columns[1:]):\n",
    "        testDataY = plotDataDF.iloc[:,0].values\n",
    "        predDataY = plotDataDF[col].values\n",
    "        axMax = max(max(testDataY),max(predDataY))\n",
    "        axMin = min(min(testDataY),min(predDataY))\n",
    "        axisMin = min(axisMin,axMin)\n",
    "        axisMax = max(axisMax,axMax)\n",
    "        ax.scatter(testDataY,predDataY,marker =marker[i],edgecolor =colors[i],label=col.replace('_simulation',''))\n",
    "\n",
    "    x2= np.linspace(axisMin,axisMax,30);\n",
    "    y2 = x2\n",
    "    ax.plot(x2,y2,'r-',lw=3,label ='1:1 ratio')\n",
    "    ax.legend (loc='best',ncol=3)           \n",
    "    ax.set_xlim(axisMin,axisMax)\n",
    "    ax.set_ylim(axisMin,axisMax)\n",
    "    ax.set_title(trgVar)\n",
    "    ax.set_xlabel('testDataY')\n",
    "    ax.set_ylabel('PredDataY')    \n",
    "        \n"
   ]
  },
  {
   "cell_type": "code",
   "execution_count": null,
   "id": "e491553e",
   "metadata": {
    "scrolled": false
   },
   "outputs": [],
   "source": [
    "modelSimulations = finalDF['modelSimulation'].unique()\n",
    "trgVars = finalDF['var'].unique()\n",
    "for trgVar in trgVars:\n",
    "    tempdf = finalDF[finalDF['var']==trgVar]  # no Portlandite\n",
    "    dataplot = {}\n",
    "    plotDataDF = pd.DataFrame()\n",
    "    for simulation in modelSimulations:\n",
    "        # skip the xgb and MLP models\n",
    "        # the two models are very bad, need to be fine tune\n",
    "        if 'MLP' in simulation or 'xgb' in simulation: \n",
    "            continue\n",
    "\n",
    "        df = tempdf[tempdf['modelSimulation']==simulation]\n",
    "        if len(plotDataDF)==0:\n",
    "            plotDataDF=df[['testDataY','predDataY']]\n",
    "        else:    \n",
    "            plotDataDF = pd.concat([plotDataDF,df[['predDataY']]],axis=1)\n",
    "\n",
    "        plotDataDF.rename({'predDataY': simulation}, axis=1,inplace=True)\n",
    "                                    \n",
    "    drawCombiningPlots(plotDataDF,trgVar)    \n",
    " \n"
   ]
  },
  {
   "cell_type": "code",
   "execution_count": null,
   "id": "33cd174f",
   "metadata": {},
   "outputs": [],
   "source": []
  }
 ],
 "metadata": {
  "kernelspec": {
   "display_name": "Python 3 (ipykernel)",
   "language": "python",
   "name": "python3"
  },
  "language_info": {
   "codemirror_mode": {
    "name": "ipython",
    "version": 3
   },
   "file_extension": ".py",
   "mimetype": "text/x-python",
   "name": "python",
   "nbconvert_exporter": "python",
   "pygments_lexer": "ipython3",
   "version": "3.9.13"
  }
 },
 "nbformat": 4,
 "nbformat_minor": 5
}
